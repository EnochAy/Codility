{
 "cells": [
  {
   "cell_type": "code",
   "execution_count": 1,
   "metadata": {},
   "outputs": [],
   "source": [
    "# you can write to stdout for debugging purposes, e.g.\n",
    "# print(\"this is a debug message\")\n",
    "import re\n",
    "import unittest\n",
    "import random\n",
    "def solution(N):\n",
    "    # write your code in Python 3.6\n",
    "    if N < 0:\n",
    "        return 0\n",
    "\n",
    "    binNum = \"{0:b}\".format(N)     \n",
    "\n",
    "    strBinNum = str(binNum)\n",
    "\n",
    "    largest = 0 \n",
    "    total = 0\n",
    "    idx = 0\n",
    "\n",
    "    binList = {}\n",
    "\n",
    "    for match in re.finditer('1', strBinNum):\n",
    "        binList[idx] = match.start()\n",
    "        binList[idx + 1] = match.end()\n",
    "\n",
    "        if(idx > 0):\n",
    "            total  = binList[idx] - binList[idx - 1]\n",
    "            total = total - 1\n",
    "\n",
    "        if total >= largest:\n",
    "            largest = total\n",
    "\n",
    "        idx += 1\n",
    "    return largest        \n",
    "\n",
    "\n",
    "class TestSkeleton(unittest.TestCase):\n",
    "\n",
    "    def test_negative(self):\n",
    "        self.assertEqual(solution(-1), 0)\n",
    "\n",
    "    def test_extreme_small(self):\n",
    "        self.assertEqual(solution(0), 0)\n",
    "        self.assertEqual(solution(1), 0)\n",
    "        self.assertEqual(solution(5), 1)\n",
    "    \n",
    "    def test_longest_binary_gap(self):\n",
    "        self.assertEqual(solution(1041), 5)\n",
    "        self.assertEqual(solution(42), 1)\n",
    "        self.assertEqual(solution(20), 1)\n",
    "        self.assertEqual(solution(19), 2)\n",
    "\n",
    "    def test__no_binary_gap(self):\n",
    "        self.assertEqual(solution(32), 0)\n",
    "    \n",
    "    def test_extreme_large_binary_gap(self):\n",
    "        self.assertEqual(solution(2147483647), 0)\n",
    "        self.assertEqual(solution(3908253), 3)"
   ]
  }
 ],
 "metadata": {
  "interpreter": {
   "hash": "26de051ba29f2982a8de78e945f0abaf191376122a1563185a90213a26c5da77"
  },
  "kernelspec": {
   "display_name": "Python 3.10.2 64-bit",
   "language": "python",
   "name": "python3"
  },
  "language_info": {
   "codemirror_mode": {
    "name": "ipython",
    "version": 3
   },
   "file_extension": ".py",
   "mimetype": "text/x-python",
   "name": "python",
   "nbconvert_exporter": "python",
   "pygments_lexer": "ipython3",
   "version": "3.10.2"
  },
  "orig_nbformat": 4
 },
 "nbformat": 4,
 "nbformat_minor": 2
}
